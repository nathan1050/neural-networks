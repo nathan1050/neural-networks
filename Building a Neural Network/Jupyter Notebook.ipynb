{
 "cells": [
  {
   "cell_type": "markdown",
   "id": "f16e01e1",
   "metadata": {},
   "source": [
    "# Nathan Fernandes - CS 767"
   ]
  },
  {
   "cell_type": "markdown",
   "id": "cea45292",
   "metadata": {},
   "source": [
    "Homework 2"
   ]
  },
  {
   "cell_type": "code",
   "execution_count": 1,
   "id": "1fb33655",
   "metadata": {},
   "outputs": [],
   "source": [
    "# Importing Libraries\n",
    "\n",
    "import numpy as np\n",
    "import pandas as pd\n",
    "from  sklearn.datasets import  load_iris\n",
    "from sklearn.model_selection import train_test_split\n",
    "import matplotlib.pyplot as plt\n",
    "import matplotlib.lines as mlines\n",
    "import math\n",
    "from random import sample"
   ]
  },
  {
   "cell_type": "markdown",
   "id": "c41952f1",
   "metadata": {},
   "source": [
    "# Problem 1.\n",
    "## Building a Neural Network using Numpy and Pandas"
   ]
  },
  {
   "cell_type": "markdown",
   "id": "5b1b50df",
   "metadata": {},
   "source": [
    "Setting up the IRIS dataset:"
   ]
  },
  {
   "cell_type": "code",
   "execution_count": 2,
   "id": "302a87dd",
   "metadata": {},
   "outputs": [],
   "source": [
    "iris = load_iris()"
   ]
  },
  {
   "cell_type": "code",
   "execution_count": 3,
   "id": "8075b1d9",
   "metadata": {},
   "outputs": [],
   "source": [
    "# Creating a Pandas Dataframe of the data\n",
    "\n",
    "data = pd.DataFrame(data= np.c_[iris['data'], iris['target']],columns= iris['feature_names'] + ['Species'])\n",
    "\n",
    "# Setting target names\n",
    "\n",
    "data.loc[(data.Species == 0.0),'Species']= iris.target_names[0]\n",
    "data.loc[(data.Species == 1.0),'Species']= iris.target_names[1]\n",
    "data.loc[(data.Species == 2.0),'Species']= iris.target_names[2]"
   ]
  },
  {
   "cell_type": "code",
   "execution_count": 4,
   "id": "5e7ce5a8",
   "metadata": {},
   "outputs": [
    {
     "data": {
      "text/html": [
       "<div>\n",
       "<style scoped>\n",
       "    .dataframe tbody tr th:only-of-type {\n",
       "        vertical-align: middle;\n",
       "    }\n",
       "\n",
       "    .dataframe tbody tr th {\n",
       "        vertical-align: top;\n",
       "    }\n",
       "\n",
       "    .dataframe thead th {\n",
       "        text-align: right;\n",
       "    }\n",
       "</style>\n",
       "<table border=\"1\" class=\"dataframe\">\n",
       "  <thead>\n",
       "    <tr style=\"text-align: right;\">\n",
       "      <th></th>\n",
       "      <th>sepal length (cm)</th>\n",
       "      <th>sepal width (cm)</th>\n",
       "      <th>petal length (cm)</th>\n",
       "      <th>petal width (cm)</th>\n",
       "      <th>Species</th>\n",
       "    </tr>\n",
       "  </thead>\n",
       "  <tbody>\n",
       "    <tr>\n",
       "      <th>0</th>\n",
       "      <td>5.1</td>\n",
       "      <td>3.5</td>\n",
       "      <td>1.4</td>\n",
       "      <td>0.2</td>\n",
       "      <td>setosa</td>\n",
       "    </tr>\n",
       "    <tr>\n",
       "      <th>1</th>\n",
       "      <td>4.9</td>\n",
       "      <td>3.0</td>\n",
       "      <td>1.4</td>\n",
       "      <td>0.2</td>\n",
       "      <td>setosa</td>\n",
       "    </tr>\n",
       "    <tr>\n",
       "      <th>2</th>\n",
       "      <td>4.7</td>\n",
       "      <td>3.2</td>\n",
       "      <td>1.3</td>\n",
       "      <td>0.2</td>\n",
       "      <td>setosa</td>\n",
       "    </tr>\n",
       "    <tr>\n",
       "      <th>3</th>\n",
       "      <td>4.6</td>\n",
       "      <td>3.1</td>\n",
       "      <td>1.5</td>\n",
       "      <td>0.2</td>\n",
       "      <td>setosa</td>\n",
       "    </tr>\n",
       "    <tr>\n",
       "      <th>4</th>\n",
       "      <td>5.0</td>\n",
       "      <td>3.6</td>\n",
       "      <td>1.4</td>\n",
       "      <td>0.2</td>\n",
       "      <td>setosa</td>\n",
       "    </tr>\n",
       "  </tbody>\n",
       "</table>\n",
       "</div>"
      ],
      "text/plain": [
       "   sepal length (cm)  sepal width (cm)  petal length (cm)  petal width (cm)  \\\n",
       "0                5.1               3.5                1.4               0.2   \n",
       "1                4.9               3.0                1.4               0.2   \n",
       "2                4.7               3.2                1.3               0.2   \n",
       "3                4.6               3.1                1.5               0.2   \n",
       "4                5.0               3.6                1.4               0.2   \n",
       "\n",
       "  Species  \n",
       "0  setosa  \n",
       "1  setosa  \n",
       "2  setosa  \n",
       "3  setosa  \n",
       "4  setosa  "
      ]
     },
     "execution_count": 4,
     "metadata": {},
     "output_type": "execute_result"
    }
   ],
   "source": [
    "data.head()"
   ]
  },
  {
   "cell_type": "markdown",
   "id": "a11cfbdb",
   "metadata": {},
   "source": [
    "## Building a Single Layer Perceptron"
   ]
  },
  {
   "cell_type": "code",
   "execution_count": 5,
   "id": "8aa5ff53",
   "metadata": {},
   "outputs": [],
   "source": [
    "# Splitting the dataset in Train and Test\n",
    "\n",
    "X = data.iloc[:,[0, 1, 2, 3]].values\n",
    "y = data.iloc[:,4].values\n",
    "y = np.where(y=='setosa', 0, 1)\n",
    "\n",
    "X_train, X_test, y_train, y_test = train_test_split(X, y, test_size=0.2, random_state=10)"
   ]
  },
  {
   "cell_type": "markdown",
   "id": "a99c3f60",
   "metadata": {},
   "source": [
    "## Batch Gradient Descent"
   ]
  },
  {
   "cell_type": "code",
   "execution_count": 34,
   "id": "28abe4ac",
   "metadata": {
    "scrolled": true
   },
   "outputs": [],
   "source": [
    "# Final Batch\n",
    "\n",
    "w = np.random.random(4)\n",
    "b = np.random.random()\n",
    "\n",
    "iterations = 1000\n",
    "learning_rate = 0.001\n",
    "N = 120\n",
    "\n",
    "\n",
    "MSE_train = []\n",
    "MSE_test = []\n",
    "\n",
    "for i in range(0, iterations):\n",
    "\n",
    "    z = np.dot(X_train, w) + b\n",
    "\n",
    "    dw = (1/N) * np.dot(X_train.T , (z - list(y_train)))\n",
    "    db = (1/N) * np.sum(z - list(y_train))\n",
    "\n",
    "    w = w - learning_rate * dw\n",
    "    b = b - learning_rate * db\n",
    "\n",
    "    error_train = (1/N) * np.power(np.sum( z - y_train),2)\n",
    "    \n",
    "    z_test = np.dot(X_test, w) + b\n",
    "    error_test = (1/N) * np.power(np.sum( z_test - y_test),2)\n",
    "\n",
    "    MSE_train.append(error_train)\n",
    "    MSE_test.append(error_test)"
   ]
  },
  {
   "cell_type": "code",
   "execution_count": 35,
   "id": "511014b3",
   "metadata": {},
   "outputs": [
    {
     "data": {
      "image/png": "[encoded data removed]",
      "text/plain": [
       "<Figure size 432x288 with 1 Axes>"
      ]
     },
     "metadata": {
      "needs_background": "light"
     },
     "output_type": "display_data"
    }
   ],
   "source": [
    "plt.plot(MSE_train)\n",
    "plt.xlabel(\"Epochs\")\n",
    "plt.ylabel(\"Cost Function\")\n",
    "plt.title(\"Batch gradient descent -MSE- on Training Set\")\n",
    "plt.show()"
   ]
  },
  {
   "cell_type": "code",
   "execution_count": 36,
   "id": "22504cf4",
   "metadata": {},
   "outputs": [
    {
     "data": {
      "image/png": "[encoded data removed]",
      "text/plain": [
       "<Figure size 432x288 with 1 Axes>"
      ]
     },
     "metadata": {
      "needs_background": "light"
     },
     "output_type": "display_data"
    }
   ],
   "source": [
    "plt.plot(MSE_test)\n",
    "plt.xlabel(\"Epochs\")\n",
    "plt.ylabel(\"Cost Function\")\n",
    "plt.title(\"Batch gradient descent -MSE- on Testing Set\")\n",
    "plt.show()"
   ]
  },
  {
   "cell_type": "markdown",
   "id": "05c7b001",
   "metadata": {},
   "source": [
    "## Stochastic Gradient Descent"
   ]
  },
  {
   "cell_type": "code",
   "execution_count": 38,
   "id": "74c0f13d",
   "metadata": {},
   "outputs": [],
   "source": [
    "# Stochastic final\n",
    "\n",
    "w = np.random.random(4)\n",
    "b = np.random.random()\n",
    "\n",
    "iterations = 1000\n",
    "learning_rate = 0.001\n",
    "\n",
    "\n",
    "MSE_stoch_train = []\n",
    "MSE_stoch_test = []\n",
    "\n",
    "for i in range(0, iterations):\n",
    "    \n",
    "    for j in range(0, N):\n",
    "        \n",
    "        z = np.dot(X_train[j], w) + b\n",
    "        \n",
    "        dw = (1/N) * np.dot(X_train[j], (z - (y_train[j])))\n",
    "        db = (1/N) * np.sum(z - y_train[j])\n",
    "\n",
    "        w = w - learning_rate * dw\n",
    "        b = b - learning_rate * db\n",
    "        \n",
    "        error = np.power(np.sum( z - y_train[j]),2)\n",
    "        MSE_stoch_train.append(error)\n",
    "        \n",
    "        \n",
    "    z_test = np.dot(X_test, w) + b \n",
    "\n",
    "    error_test = (1/N) * np.power(np.sum(z_test - y_test) ,2)\n",
    "    MSE_stoch_test.append(error_test)  "
   ]
  },
  {
   "cell_type": "code",
   "execution_count": 39,
   "id": "0c264e07",
   "metadata": {},
   "outputs": [
    {
     "data": {
      "image/png": "[encoded data removed]",
      "text/plain": [
       "<Figure size 432x288 with 1 Axes>"
      ]
     },
     "metadata": {
      "needs_background": "light"
     },
     "output_type": "display_data"
    }
   ],
   "source": [
    "plt.plot(MSE_stoch_train)\n",
    "plt.xlabel(\"Epochs x 120\")\n",
    "plt.ylabel(\"Cost Function\")\n",
    "plt.title(\"Stochastic gradient descent -MSE- on Training Set\")\n",
    "plt.show()"
   ]
  },
  {
   "cell_type": "code",
   "execution_count": 40,
   "id": "56197f6a",
   "metadata": {},
   "outputs": [
    {
     "data": {
      "image/png": "[encoded data removed]",
      "text/plain": [
       "<Figure size 432x288 with 1 Axes>"
      ]
     },
     "metadata": {
      "needs_background": "light"
     },
     "output_type": "display_data"
    }
   ],
   "source": [
    "plt.plot(MSE_stoch_test)\n",
    "plt.xlabel(\"Epochs\")\n",
    "plt.ylabel(\"Cost Function\")\n",
    "plt.title(\"Stochastic gradient descent -MSE- on Testing Set\")\n",
    "plt.show()"
   ]
  },
  {
   "cell_type": "markdown",
   "id": "14ed4128",
   "metadata": {},
   "source": [
    "## Mini Batch Gradient Descent"
   ]
  },
  {
   "cell_type": "code",
   "execution_count": 41,
   "id": "93064eb3",
   "metadata": {},
   "outputs": [],
   "source": [
    "def batchGenerator(X, Y, batch_size):\n",
    "    \n",
    "    a = []\n",
    "    for i in range(X.shape[0]):\n",
    "        a.append(i)\n",
    "    \n",
    "    batches_X = []\n",
    "    batches_Y = []\n",
    "\n",
    "    for i in range(int(X.shape[0] / batch_size)):\n",
    "        mini = sample(a, batch_size)\n",
    "        x_mini = X[mini, : ]\n",
    "        y_mini = Y[mini]\n",
    "        batches_X.append(x_mini)\n",
    "        batches_Y.append(y_mini)\n",
    "\n",
    "    return batches_X, batches_Y"
   ]
  },
  {
   "cell_type": "code",
   "execution_count": 62,
   "id": "df68e513",
   "metadata": {
    "scrolled": true
   },
   "outputs": [],
   "source": [
    "# Mini Batch Final\n",
    "\n",
    "w = np.random.random(4)\n",
    "b = np.random.random()\n",
    "\n",
    "iterations = 100\n",
    "learning_rate = 0.001\n",
    "\n",
    "MSE_mini_train = []\n",
    "MSE_mini_test = []\n",
    "\n",
    "for i in range(0, iterations):\n",
    "    X_batch, y_batch = batchGenerator(X_train, y_train, 12)\n",
    "    \n",
    "    for j in range(0, 10):\n",
    "        z = np.dot(X_batch[j], w.T) + b\n",
    "\n",
    "        dw = (1/10) * np.dot(X_batch[j].T , (z - list(y_batch[j])).T)\n",
    "        db = (1/10) * np.sum(z - list(y_batch[j]))\n",
    "\n",
    "        w = w - learning_rate * dw.T\n",
    "        b = b - learning_rate * db\n",
    "\n",
    "        error_train = (1/10) * np.power(np.sum( z - y_batch[j]),2)\n",
    "    \n",
    "    MSE_mini_train.append(error_train)\n",
    "    \n",
    "    z_test = np.dot(X_test, w) + b\n",
    "    error_test = (1/10) * np.power(np.sum( z_test - y_test),2)\n",
    "    MSE_mini_test.append(error_test)"
   ]
  },
  {
   "cell_type": "code",
   "execution_count": 61,
   "id": "96b4baf2",
   "metadata": {},
   "outputs": [
    {
     "data": {
      "image/png": "[encoded data removed]",
      "text/plain": [
       "<Figure size 432x288 with 1 Axes>"
      ]
     },
     "metadata": {
      "needs_background": "light"
     },
     "output_type": "display_data"
    }
   ],
   "source": [
    "plt.plot(MSE_mini_train)\n",
    "plt.xlabel(\"Epochs\")\n",
    "plt.ylabel(\"Cost Function\")\n",
    "plt.title(\"Mini Batch gradient descent -MSE- on Training Set\")\n",
    "plt.show()"
   ]
  },
  {
   "cell_type": "code",
   "execution_count": 63,
   "id": "91b5743f",
   "metadata": {},
   "outputs": [
    {
     "data": {
      "image/png": "[encoded data removed]",
      "text/plain": [
       "<Figure size 432x288 with 1 Axes>"
      ]
     },
     "metadata": {
      "needs_background": "light"
     },
     "output_type": "display_data"
    }
   ],
   "source": [
    "plt.plot(MSE_mini_test)\n",
    "plt.xlabel(\"Epochs\")\n",
    "plt.ylabel(\"Cost Function\")\n",
    "plt.title(\"Mini Batch gradient descent -MSE- on Testing Set\")\n",
    "plt.show()"
   ]
  },
  {
   "cell_type": "markdown",
   "id": "340d58e6",
   "metadata": {},
   "source": [
    "# Problem 2.\n",
    "### Name two pros and cons of stochastics gradient descent:"
   ]
  },
  {
   "cell_type": "markdown",
   "id": "7ce61320",
   "metadata": {},
   "source": [
    "### Advantages of Stochastic Gradient Descent\n",
    "\n",
    "1. It is easier to fit in the memory due to a single training example being processed by the network and is computationally fast as only one sample is processed at a time.\n",
    "3. For larger datasets, it can converge faster as it causes updates to the parameters more frequently."
   ]
  },
  {
   "cell_type": "markdown",
   "id": "fa3c98d7",
   "metadata": {},
   "source": [
    "### Disadvantages of Stochastic Gradient Descent\n",
    "\n",
    "1. Due to frequent updates, the steps taken towards the minima are very noisy. This can often lean the gradient descent into other directions and it may take longer to achieve convergence to the minima of the loss function. Frequent updates are computationally expensive because of using all resources for processing one training sample at a time.\n",
    "2. It loses the advantage of vectorized operations as it deals with only a single example at a time."
   ]
  }
 ],
 "metadata": {
  "kernelspec": {
   "display_name": "Python 3",
   "language": "python",
   "name": "python3"
  },
  "language_info": {
   "codemirror_mode": {
    "name": "ipython",
    "version": 3
   },
   "file_extension": ".py",
   "mimetype": "text/x-python",
   "name": "python",
   "nbconvert_exporter": "python",
   "pygments_lexer": "ipython3",
   "version": "3.8.8"
  }
 },
 "nbformat": 4,
 "nbformat_minor": 5
}
